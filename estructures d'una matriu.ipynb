{
 "cells": [
  {
   "cell_type": "code",
   "execution_count": 2,
   "id": "f3cf2aff",
   "metadata": {},
   "outputs": [
    {
     "name": "stdout",
     "output_type": "stream",
     "text": [
      "int64\n"
     ]
    }
   ],
   "source": [
    "\n",
    "import numpy as np\n",
    "\n",
    "arr = np.array([9223311511,3393891,3373729,3474732,2284749,7272849,4847279,4847372], ndmin = 1)\n",
    "\n",
    "print(arr.dtype)"
   ]
  },
  {
   "cell_type": "code",
   "execution_count": 13,
   "id": "0bdf0d54",
   "metadata": {},
   "outputs": [
    {
     "name": "stdout",
     "output_type": "stream",
     "text": [
      "El nombre de dimensions de l'array és de 1\n",
      "[9223311511    3393891    3373729    3474732    2284749    7272849\n",
      "    4847279    4847372]\n",
      "La matriz es la siguiente:\n",
      "9223311511 3393891 3373729 3474732 2284749 7272849 4847279 4847372 "
     ]
    }
   ],
   "source": [
    "#Mostra la dimensió i la forma de la matriu. \n",
    "\n",
    "print(\"El nombre de dimensions de l'array és de\" , arr.ndim)\n",
    "print(arr)\n",
    "\n",
    "def mostrar():\n",
    "    print(\"La matriz es la siguiente:\")\n",
    "    for i in arr:\n",
    "        print(i,end=\" \")\n",
    "    \n",
    "mostrar()"
   ]
  },
  {
   "cell_type": "code",
   "execution_count": 6,
   "id": "96538c1a",
   "metadata": {},
   "outputs": [
    {
     "name": "stdout",
     "output_type": "stream",
     "text": [
      "4161005.5\n",
      "9219150505.5\n",
      "-767114.5\n",
      "-787276.5\n",
      "-686273.5\n",
      "-1876256.5\n",
      "3111843.5\n",
      "686273.5\n",
      "686366.5\n"
     ]
    }
   ],
   "source": [
    "#Valor mitjà dels valors introduits\n",
    "\n",
    "import statistics\n",
    "\n",
    "y =(statistics.median(arr))\n",
    "print(y)\n",
    "\n",
    "#resta la mitjana resultant de cada un dels valors\n",
    "for x in arr:\n",
    "    i = x-y\n",
    "    print(i)"
   ]
  },
  {
   "cell_type": "code",
   "execution_count": 14,
   "id": "4e587e02",
   "metadata": {},
   "outputs": [
    {
     "name": "stdout",
     "output_type": "stream",
     "text": [
      "[[ 3 46 72 30 14]\n",
      " [95 41 24 95 97]\n",
      " [63 89 19 16 48]\n",
      " [20 40 79 71 15]\n",
      " [76 35 88  8 98]]\n",
      "98\n",
      "[95 89 88 95 98]\n",
      "[72 97 89 79 98]\n"
     ]
    }
   ],
   "source": [
    "#Crea una matriu bidimensional amb una forma de 5 x 5. Extreu el valor màxim de la matriu, \n",
    "#i els valors màxims de cadascun dels seus eixos.\n",
    "\n",
    "from numpy import random\n",
    "\n",
    "\n",
    "quadrat = random.randint(100, size=(5, 5))\n",
    "\n",
    "print(quadrat)\n",
    "\n",
    "print(np.amax(quadrat))\n",
    "print(np.amax(quadrat, 0))\n",
    "print(np.amax(quadrat, 1))"
   ]
  },
  {
   "cell_type": "code",
   "execution_count": null,
   "id": "f08c2534",
   "metadata": {},
   "outputs": [],
   "source": []
  }
 ],
 "metadata": {
  "kernelspec": {
   "display_name": "Python 3 (ipykernel)",
   "language": "python",
   "name": "python3"
  },
  "language_info": {
   "codemirror_mode": {
    "name": "ipython",
    "version": 3
   },
   "file_extension": ".py",
   "mimetype": "text/x-python",
   "name": "python",
   "nbconvert_exporter": "python",
   "pygments_lexer": "ipython3",
   "version": "3.9.7"
  }
 },
 "nbformat": 4,
 "nbformat_minor": 5
}
