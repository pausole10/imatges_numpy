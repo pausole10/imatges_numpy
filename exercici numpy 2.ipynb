{
 "cells": [
  {
   "cell_type": "code",
   "execution_count": 25,
   "id": "f3cf2aff",
   "metadata": {},
   "outputs": [
    {
     "name": "stdout",
     "output_type": "stream",
     "text": [
      "int64\n"
     ]
    }
   ],
   "source": [
    "\n",
    "import numpy as np\n",
    "\n",
    "arr = np.array([922331151,3393898581,3373725049,3474732039,2284743939,7272841839,4847279095,4847375852], ndmin = 1)\n",
    "\n",
    "print(arr.dtype)"
   ]
  },
  {
   "cell_type": "code",
   "execution_count": 3,
   "id": "0bdf0d54",
   "metadata": {},
   "outputs": [
    {
     "name": "stdout",
     "output_type": "stream",
     "text": [
      "El nombre de dimensions de l'array és de 1\n",
      "[9223311511    3393891    3373729    3474732    2284749    7272849\n",
      "    4847279    4847372]\n"
     ]
    }
   ],
   "source": [
    "#Mostra la dimensió i la forma de la matriu. \n",
    "\n",
    "print(\"El nombre de dimensions de l'array és de\" , arr.ndim)\n",
    "print(arr)"
   ]
  },
  {
   "cell_type": "code",
   "execution_count": 27,
   "id": "96538c1a",
   "metadata": {},
   "outputs": [
    {
     "name": "stdout",
     "output_type": "stream",
     "text": [
      "3434315310.0\n",
      "-2511984159.0\n",
      "-40416729.0\n",
      "-60590261.0\n",
      "40416729.0\n",
      "-1149571371.0\n",
      "3838526529.0\n",
      "1412963785.0\n",
      "1413060542.0\n"
     ]
    }
   ],
   "source": [
    "#Valor mitjà dels valors introduits\n",
    "\n",
    "import statistics\n",
    "\n",
    "y = statistics.median(arr)\n",
    "print(y)\n",
    "\n",
    "#resta la mitjana resultant de cada un dels valors\n",
    "res = 0\n",
    "for x in arr:\n",
    "    z=x-y\n",
    "    print(z)"
   ]
  },
  {
   "cell_type": "code",
   "execution_count": 38,
   "id": "76cbbcec",
   "metadata": {},
   "outputs": [
    {
     "name": "stdout",
     "output_type": "stream",
     "text": [
      "10\n",
      "5\n",
      "10\n"
     ]
    }
   ],
   "source": [
    "#matriu bidimensional amb una forma de 5 x 5\n",
    "\n",
    "arr = np.array([[1,2,3,4,5], [6,7,8,9,10]])\n",
    "\n",
    "#Extreu el valor màxim de la matriu, i els valors màxims de cadascun dels seus eixos.\n",
    "print(np.amax(arr))\n",
    "print(max(arr[0]))\n",
    "print(max(arr[1]))\n",
    "\n"
   ]
  },
  {
   "cell_type": "code",
   "execution_count": null,
   "id": "f08c2534",
   "metadata": {},
   "outputs": [],
   "source": []
  }
 ],
 "metadata": {
  "kernelspec": {
   "display_name": "Python 3 (ipykernel)",
   "language": "python",
   "name": "python3"
  },
  "language_info": {
   "codemirror_mode": {
    "name": "ipython",
    "version": 3
   },
   "file_extension": ".py",
   "mimetype": "text/x-python",
   "name": "python",
   "nbconvert_exporter": "python",
   "pygments_lexer": "ipython3",
   "version": "3.9.7"
  }
 },
 "nbformat": 4,
 "nbformat_minor": 5
}
